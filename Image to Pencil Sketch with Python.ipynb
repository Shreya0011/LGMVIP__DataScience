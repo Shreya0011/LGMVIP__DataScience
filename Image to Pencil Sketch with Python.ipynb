{
  "nbformat": 4,
  "nbformat_minor": 0,
  "metadata": {
    "colab": {
      "name": "LGM.ipynb",
      "provenance": [],
      "collapsed_sections": [],
      "mount_file_id": "1VftCJ9IGvSoK7Q6rzYBZ_5jCk5mqTbA1",
      "authorship_tag": "ABX9TyOMPXhQD5KiVRhHG4xuodFM"
    },
    "kernelspec": {
      "name": "python3",
      "display_name": "Python 3"
    },
    "language_info": {
      "name": "python"
    }
  },
  "cells": [
    {
      "cell_type": "code",
      "metadata": {
        "colab": {
          "base_uri": "https://localhost:8080/"
        },
        "id": "5nXJcA5nyKLh",
        "outputId": "22e0b0dc-8224-4189-b424-3f9a725331a8"
      },
      "source": [
        "import os,sys\n",
        "from google.colab import drive\n",
        "drive.mount('/content/drive')\n",
        "os.chdir('/content/drive/My Drive/Colab Notebooks/OPENCV')\n",
        "sys.path.append('/content/drive/My Drive/Colab Notebooks/OPENCV')"
      ],
      "execution_count": 7,
      "outputs": [
        {
          "output_type": "stream",
          "name": "stdout",
          "text": [
            "Drive already mounted at /content/drive; to attempt to forcibly remount, call drive.mount(\"/content/drive\", force_remount=True).\n"
          ]
        }
      ]
    },
    {
      "cell_type": "code",
      "metadata": {
        "id": "XPoNcocqfuQR"
      },
      "source": [
        "import cv2\n",
        "import numpy as np\n",
        "from google.colab.patches import cv2_imshow"
      ],
      "execution_count": 8,
      "outputs": []
    },
    {
      "cell_type": "code",
      "metadata": {
        "id": "V8L1SI0LmuFj"
      },
      "source": [
        "img = cv2.imread('bird.jpg')\n"
      ],
      "execution_count": 11,
      "outputs": []
    },
    {
      "cell_type": "code",
      "metadata": {
        "id": "Cb1dqXjcmvRC",
        "colab": {
          "base_uri": "https://localhost:8080/"
        },
        "outputId": "b24daa18-f0d6-4e22-df80-afb16af890cb"
      },
      "source": [
        "\n",
        "grey_filter = cv2.cvtColor(img, cv2.COLOR_BGR2GRAY)\n",
        "invert_img = cv2.bitwise_not(grey_filter)\n",
        "blur = cv2.GaussianBlur(invert_img, (21,21),0)\n",
        "inverted_blur = cv2.bitwise_not(blur)\n",
        "sketch_filter = cv2.divide(grey_filter, inverted_blur, scale = 256.0)\n",
        "cv2.imwrite(\"output_sketch.png\", sketch_filter)\n",
        " \n"
      ],
      "execution_count": 10,
      "outputs": [
        {
          "output_type": "execute_result",
          "data": {
            "text/plain": [
              "True"
            ]
          },
          "metadata": {},
          "execution_count": 10
        }
      ]
    }
  ]
}